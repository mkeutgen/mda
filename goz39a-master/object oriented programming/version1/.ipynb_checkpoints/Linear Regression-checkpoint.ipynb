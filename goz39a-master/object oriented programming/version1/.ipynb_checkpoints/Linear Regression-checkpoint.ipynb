{
 "cells": [
  {
   "cell_type": "markdown",
   "metadata": {},
   "source": [
    "<b> Regression Models </b> in an object oriented way:\n",
    "<br>\n",
    "<hr>\n",
    "Create a linear regression model based on the formula\n",
    "$\\hat{y}=b_0 + b_1 x$<br>\n",
    "The data is collected and stored in a `design matrix` $X$ $\\sim n \\times 2$ (we have one feature and one constant, for n observations).\n",
    "<br>\n",
    "The data we need to predict : $Y\\sim n \\times 1$\n",
    "<br>\n",
    "The solution for b is :\n",
    "<br>\n",
    "$b=(X^T X)^{-1}X^T Y$\n",
    "<br>\n",
    "As you can see $b \\sim 2 \\times 1$"
   ]
  },
  {
   "cell_type": "code",
   "execution_count": 2,
   "metadata": {},
   "outputs": [],
   "source": [
    "import numpy as np\n",
    "import matplotlib.pyplot as plt\n",
    "%matplotlib inline"
   ]
  },
  {
   "cell_type": "markdown",
   "metadata": {},
   "source": [
    "Let's create some basis example and generate 10 data-points $(x_i,y_i)$"
   ]
  },
  {
   "cell_type": "code",
   "execution_count": 9,
   "metadata": {},
   "outputs": [
    {
     "data": {
      "image/png": "[encoded data removed]",
      "text/plain": [
       "<Figure size 432x288 with 1 Axes>"
      ]
     },
     "metadata": {
      "needs_background": "light"
     },
     "output_type": "display_data"
    }
   ],
   "source": [
    "X = np.arange(0,10)\n",
    "Y=(2*X+np.random.randn(1,len(X)))\n",
    "plt.scatter(X,Y);"
   ]
  },
  {
   "cell_type": "markdown",
   "metadata": {},
   "source": [
    "Lets create a simple function to make the regression. <br>\n",
    "A function where the input is $X$ and $Y$ and the output is a vector $b$ with the intercept & coefficient"
   ]
  },
  {
   "cell_type": "code",
   "execution_count": 10,
   "metadata": {},
   "outputs": [],
   "source": [
    "def linear_regression(X,Y):\n",
    "    #add a column with ones\n",
    "    X_ones = np.ones(X.shape)\n",
    "    X = np.vstack([ X_ones,X]).T\n",
    "    Y = Y.T\n",
    "    b = np.dot(np.dot(np.linalg.inv(np.dot(X.T,X)),X.T),Y)\n",
    "    return b.reshape(-1,)"
   ]
  },
  {
   "cell_type": "code",
   "execution_count": 14,
   "metadata": {},
   "outputs": [
    {
     "name": "stdout",
     "output_type": "stream",
     "text": [
      "b0: 0.8027061165181344  b1: 1.8449128574703435\n"
     ]
    }
   ],
   "source": [
    "b= linear_regression(X,Y)\n",
    "print('b0:',b[0],' b1:',b[1])"
   ]
  },
  {
   "cell_type": "markdown",
   "metadata": {},
   "source": [
    "To make predictions we can write another function"
   ]
  },
  {
   "cell_type": "code",
   "execution_count": 16,
   "metadata": {},
   "outputs": [],
   "source": [
    "def predict(X,b):\n",
    "    return X*b[1]+b[0]"
   ]
  },
  {
   "cell_type": "code",
   "execution_count": 17,
   "metadata": {},
   "outputs": [
    {
     "data": {
      "image/png": "[encoded data removed]",
      "text/plain": [
       "<Figure size 432x288 with 1 Axes>"
      ]
     },
     "metadata": {
      "needs_background": "light"
     },
     "output_type": "display_data"
    }
   ],
   "source": [
    "Y_predict = predict(X,b)\n",
    "plt.scatter(X,Y);\n",
    "plt.plot(X,Y_predict,'r--',linewidth=0.5);"
   ]
  },
  {
   "cell_type": "markdown",
   "metadata": {},
   "source": [
    "This is a story that get very messy and we still have to add R-Square and/or other metrics."
   ]
  },
  {
   "cell_type": "markdown",
   "metadata": {},
   "source": [
    "Let's see what we can do using Object Oriented Programming"
   ]
  },
  {
   "cell_type": "code",
   "execution_count": 18,
   "metadata": {},
   "outputs": [],
   "source": [
    "class myregression:\n",
    "    def __init__(self):\n",
    "        self.b_0=None\n",
    "        self.b_1=None\n",
    "    \n",
    "    def __repr__(self):\n",
    "        return 'my personal linear regression'\n",
    "    \n",
    "    def fit(self,X,Y):\n",
    "        X_ones = np.ones(X.shape)\n",
    "        X = np.vstack([ X_ones,X]).T\n",
    "        Y = Y.T\n",
    "        b = np.dot(np.dot(np.linalg.inv(np.dot(X.T,X)),X.T),Y)\n",
    "        b = b.reshape(-1,)\n",
    "        self.b_0 = b[0]\n",
    "        self.b_1 = b[1]\n",
    "    \n",
    "    def predict(self,X):\n",
    "        return X*self.b_1+self.b_0"
   ]
  },
  {
   "cell_type": "markdown",
   "metadata": {},
   "source": [
    "The key building blocks of the class `myregression` are:\n",
    "1. initializer : `__init__()` function which is used to create an instance of a class\n",
    "2. `__repr__()`: which adds an explanation on the class\n",
    "3. The other member functions such as `fit()` or `predict()`"
   ]
  },
  {
   "cell_type": "code",
   "execution_count": 19,
   "metadata": {},
   "outputs": [],
   "source": [
    "linreg = myregression()"
   ]
  },
  {
   "cell_type": "code",
   "execution_count": 33,
   "metadata": {},
   "outputs": [
    {
     "name": "stdout",
     "output_type": "stream",
     "text": [
      "my personal linear regression\n"
     ]
    }
   ],
   "source": [
    "print(linreg)"
   ]
  },
  {
   "cell_type": "markdown",
   "metadata": {},
   "source": [
    "Step 1: Fit the model to the data"
   ]
  },
  {
   "cell_type": "code",
   "execution_count": 22,
   "metadata": {},
   "outputs": [],
   "source": [
    "linreg.fit(X,Y)"
   ]
  },
  {
   "cell_type": "markdown",
   "metadata": {},
   "source": [
    "Step 2 : Make predictions"
   ]
  },
  {
   "cell_type": "code",
   "execution_count": 23,
   "metadata": {},
   "outputs": [
    {
     "data": {
      "text/plain": [
       "array([ 0.80270612,  2.64761897,  4.49253183,  6.33744469,  8.18235755,\n",
       "       10.0272704 , 11.87218326, 13.71709612, 15.56200898, 17.40692183])"
      ]
     },
     "execution_count": 23,
     "metadata": {},
     "output_type": "execute_result"
    }
   ],
   "source": [
    "linreg.predict(X)"
   ]
  },
  {
   "cell_type": "code",
   "execution_count": null,
   "metadata": {},
   "outputs": [],
   "source": []
  }
 ],
 "metadata": {
  "kernelspec": {
   "display_name": "Python 3",
   "language": "python",
   "name": "python3"
  },
  "language_info": {
   "codemirror_mode": {
    "name": "ipython",
    "version": 3
   },
   "file_extension": ".py",
   "mimetype": "text/x-python",
   "name": "python",
   "nbconvert_exporter": "python",
   "pygments_lexer": "ipython3",
   "version": "3.8.0"
  },
  "toc": {
   "base_numbering": 1,
   "nav_menu": {},
   "number_sections": true,
   "sideBar": true,
   "skip_h1_title": false,
   "title_cell": "Table of Contents",
   "title_sidebar": "Contents",
   "toc_cell": false,
   "toc_position": {},
   "toc_section_display": true,
   "toc_window_display": false
  },
  "varInspector": {
   "cols": {
    "lenName": 16,
    "lenType": 16,
    "lenVar": 40
   },
   "kernels_config": {
    "python": {
     "delete_cmd_postfix": "",
     "delete_cmd_prefix": "del ",
     "library": "var_list.py",
     "varRefreshCmd": "print(var_dic_list())"
    },
    "r": {
     "delete_cmd_postfix": ") ",
     "delete_cmd_prefix": "rm(",
     "library": "var_list.r",
     "varRefreshCmd": "cat(var_dic_list()) "
    }
   },
   "types_to_exclude": [
    "module",
    "function",
    "builtin_function_or_method",
    "instance",
    "_Feature"
   ],
   "window_display": false
  }
 },
 "nbformat": 4,
 "nbformat_minor": 4
}
