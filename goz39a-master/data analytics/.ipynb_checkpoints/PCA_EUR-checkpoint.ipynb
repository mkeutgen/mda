{
 "cells": [
  {
   "cell_type": "code",
   "execution_count": 3,
   "metadata": {
    "id": "Ql0UNptFU3D-"
   },
   "outputs": [],
   "source": [
    "import pandas as pd\n",
    "import numpy as np\n",
    "import matplotlib.pyplot as plt\n",
    "%matplotlib inline\n",
    "import seaborn as sns\n",
    "sns.set()"
   ]
  },
  {
   "cell_type": "markdown",
   "metadata": {
    "id": "AGU4mCWtU3EC"
   },
   "source": [
    "Preparing the Data"
   ]
  },
  {
   "cell_type": "code",
   "execution_count": 4,
   "metadata": {
    "colab": {
     "base_uri": "https://localhost:8080/",
     "height": 204
    },
    "executionInfo": {
     "elapsed": 20212,
     "status": "ok",
     "timestamp": 1608043756346,
     "user": {
      "displayName": "Thomas Nelen",
      "photoUrl": "",
      "userId": "09198946240301374422"
     },
     "user_tz": -60
    },
    "id": "VvT3xijBU3EC",
    "outputId": "23a529f8-ce6c-461a-a5c0-9c8b023f0862"
   },
   "outputs": [
    {
     "data": {
      "text/html": [
       "<div>\n",
       "<style scoped>\n",
       "    .dataframe tbody tr th:only-of-type {\n",
       "        vertical-align: middle;\n",
       "    }\n",
       "\n",
       "    .dataframe tbody tr th {\n",
       "        vertical-align: top;\n",
       "    }\n",
       "\n",
       "    .dataframe thead th {\n",
       "        text-align: right;\n",
       "    }\n",
       "</style>\n",
       "<table border=\"1\" class=\"dataframe\">\n",
       "  <thead>\n",
       "    <tr style=\"text-align: right;\">\n",
       "      <th></th>\n",
       "      <th>T</th>\n",
       "      <th>1Y</th>\n",
       "      <th>2Y</th>\n",
       "      <th>3Y</th>\n",
       "      <th>4Y</th>\n",
       "      <th>5Y</th>\n",
       "      <th>7Y</th>\n",
       "      <th>10Y</th>\n",
       "      <th>30Y</th>\n",
       "    </tr>\n",
       "  </thead>\n",
       "  <tbody>\n",
       "    <tr>\n",
       "      <th>0</th>\n",
       "      <td>2001-01-02</td>\n",
       "      <td>4.692</td>\n",
       "      <td>4.5650</td>\n",
       "      <td>4.6550</td>\n",
       "      <td>4.7550</td>\n",
       "      <td>4.870</td>\n",
       "      <td>5.102</td>\n",
       "      <td>5.345</td>\n",
       "      <td>5.742</td>\n",
       "    </tr>\n",
       "    <tr>\n",
       "      <th>1</th>\n",
       "      <td>2001-01-03</td>\n",
       "      <td>4.619</td>\n",
       "      <td>4.5715</td>\n",
       "      <td>4.6550</td>\n",
       "      <td>4.7600</td>\n",
       "      <td>4.870</td>\n",
       "      <td>5.089</td>\n",
       "      <td>5.306</td>\n",
       "      <td>5.716</td>\n",
       "    </tr>\n",
       "    <tr>\n",
       "      <th>2</th>\n",
       "      <td>2001-01-04</td>\n",
       "      <td>4.526</td>\n",
       "      <td>4.5350</td>\n",
       "      <td>4.6650</td>\n",
       "      <td>4.7725</td>\n",
       "      <td>4.885</td>\n",
       "      <td>5.103</td>\n",
       "      <td>5.324</td>\n",
       "      <td>5.734</td>\n",
       "    </tr>\n",
       "    <tr>\n",
       "      <th>3</th>\n",
       "      <td>2001-01-05</td>\n",
       "      <td>4.458</td>\n",
       "      <td>4.4588</td>\n",
       "      <td>4.5888</td>\n",
       "      <td>4.7138</td>\n",
       "      <td>4.830</td>\n",
       "      <td>5.046</td>\n",
       "      <td>5.278</td>\n",
       "      <td>5.703</td>\n",
       "    </tr>\n",
       "    <tr>\n",
       "      <th>4</th>\n",
       "      <td>2001-01-08</td>\n",
       "      <td>4.451</td>\n",
       "      <td>4.4738</td>\n",
       "      <td>4.5850</td>\n",
       "      <td>4.7050</td>\n",
       "      <td>4.830</td>\n",
       "      <td>5.050</td>\n",
       "      <td>5.264</td>\n",
       "      <td>5.694</td>\n",
       "    </tr>\n",
       "  </tbody>\n",
       "</table>\n",
       "</div>"
      ],
      "text/plain": [
       "            T     1Y      2Y      3Y      4Y     5Y     7Y    10Y    30Y\n",
       "0  2001-01-02  4.692  4.5650  4.6550  4.7550  4.870  5.102  5.345  5.742\n",
       "1  2001-01-03  4.619  4.5715  4.6550  4.7600  4.870  5.089  5.306  5.716\n",
       "2  2001-01-04  4.526  4.5350  4.6650  4.7725  4.885  5.103  5.324  5.734\n",
       "3  2001-01-05  4.458  4.4588  4.5888  4.7138  4.830  5.046  5.278  5.703\n",
       "4  2001-01-08  4.451  4.4738  4.5850  4.7050  4.830  5.050  5.264  5.694"
      ]
     },
     "execution_count": 4,
     "metadata": {},
     "output_type": "execute_result"
    }
   ],
   "source": [
    "df_curve = pd.read_csv('https://goz39a.s3.eu-central-1.amazonaws.com/Yield.csv')\n",
    "df_curve.head()"
   ]
  },
  {
   "cell_type": "code",
   "execution_count": 5,
   "metadata": {
    "id": "fU3Ji2s-U3ED"
   },
   "outputs": [],
   "source": [
    "df_curve.set_index('T',inplace=True)\n",
    "df_curve = df_curve.diff()"
   ]
  },
  {
   "cell_type": "code",
   "execution_count": 6,
   "metadata": {
    "id": "5RxJ_vBkU3ED"
   },
   "outputs": [],
   "source": [
    "df_curve.dropna(how='any',inplace=True)\n",
    "dr = df_curve.values"
   ]
  },
  {
   "cell_type": "markdown",
   "metadata": {
    "id": "GsGRWo-oU3EE"
   },
   "source": [
    "Principal Components"
   ]
  },
  {
   "cell_type": "code",
   "execution_count": 7,
   "metadata": {
    "id": "DLMUOdzDU3EE"
   },
   "outputs": [],
   "source": [
    "from sklearn.decomposition import PCA"
   ]
  },
  {
   "cell_type": "code",
   "execution_count": 8,
   "metadata": {
    "colab": {
     "base_uri": "https://localhost:8080/"
    },
    "executionInfo": {
     "elapsed": 20503,
     "status": "ok",
     "timestamp": 1608043756651,
     "user": {
      "displayName": "Thomas Nelen",
      "photoUrl": "",
      "userId": "09198946240301374422"
     },
     "user_tz": -60
    },
    "id": "Z6bcloGoU3EE",
    "outputId": "28848d8a-bfcd-4085-f9e6-63a90a10c049"
   },
   "outputs": [
    {
     "data": {
      "text/plain": [
       "PCA()"
      ]
     },
     "execution_count": 8,
     "metadata": {},
     "output_type": "execute_result"
    }
   ],
   "source": [
    "pca = PCA()\n",
    "pca.fit(dr)"
   ]
  },
  {
   "cell_type": "markdown",
   "metadata": {
    "id": "MiknR3wPU3EE"
   },
   "source": [
    "First Component"
   ]
  },
  {
   "cell_type": "code",
   "execution_count": 9,
   "metadata": {
    "colab": {
     "base_uri": "https://localhost:8080/",
     "height": 627
    },
    "executionInfo": {
     "elapsed": 21718,
     "status": "ok",
     "timestamp": 1608043757878,
     "user": {
      "displayName": "Thomas Nelen",
      "photoUrl": "",
      "userId": "09198946240301374422"
     },
     "user_tz": -60
    },
    "id": "JdhBNuskU3EF",
    "outputId": "678be4fb-25c9-44ee-b420-3c6b0930a95a"
   },
   "outputs": [
    {
     "data": {
      "text/plain": [
       "Text(0.5, 1.0, 'Eigenvector 4')"
      ]
     },
     "execution_count": 9,
     "metadata": {},
     "output_type": "execute_result"
    },
    {
     "data": {
      "image/png": "[encoded data removed]",
      "text/plain": [
       "<Figure size 720x720 with 4 Axes>"
      ]
     },
     "metadata": {},
     "output_type": "display_data"
    }
   ],
   "source": [
    "fig,ax = plt.subplots(2,2,figsize=(10,10),sharex=True,sharey=True)\n",
    "nbr = 1\n",
    "ax[0,0].bar(x=np.arange(0,pca.components_.shape[0]),height= pca.components_[nbr-1,:]);\n",
    "ax[0,0].set_title('Eigenvector '+str(nbr))\n",
    "\n",
    "nbr = 2\n",
    "ax[0,1].bar(x=np.arange(0,pca.components_.shape[0]),height= pca.components_[nbr-1,:]);\n",
    "ax[0,1].set_title('Eigenvector '+str(nbr))\n",
    "\n",
    "nbr = 3\n",
    "ax[1,0].bar(x=np.arange(0,pca.components_.shape[0]),height= pca.components_[nbr-1,:]);\n",
    "ax[1,0].set_title('Eigenvector '+str(nbr))\n",
    "\n",
    "nbr = 4\n",
    "ax[1,1].bar(x=np.arange(0,pca.components_.shape[0]),height= pca.components_[nbr-1,:]);\n",
    "ax[1,1].set_title('Eigenvector '+str(nbr))\n"
   ]
  },
  {
   "cell_type": "code",
   "execution_count": null,
   "metadata": {
    "id": "ivPgci1sU3EF"
   },
   "outputs": [],
   "source": []
  }
 ],
 "metadata": {
  "colab": {
   "collapsed_sections": [],
   "name": "PCA_EUR.ipynb",
   "provenance": []
  },
  "kernelspec": {
   "display_name": "Python 3",
   "language": "python",
   "name": "python3"
  },
  "language_info": {
   "codemirror_mode": {
    "name": "ipython",
    "version": 3
   },
   "file_extension": ".py",
   "mimetype": "text/x-python",
   "name": "python",
   "nbconvert_exporter": "python",
   "pygments_lexer": "ipython3",
   "version": "3.8.5"
  },
  "toc": {
   "base_numbering": 1,
   "nav_menu": {},
   "number_sections": true,
   "sideBar": true,
   "skip_h1_title": false,
   "title_cell": "Table of Contents",
   "title_sidebar": "Contents",
   "toc_cell": false,
   "toc_position": {},
   "toc_section_display": true,
   "toc_window_display": false
  },
  "varInspector": {
   "cols": {
    "lenName": 16,
    "lenType": 16,
    "lenVar": 40
   },
   "kernels_config": {
    "python": {
     "delete_cmd_postfix": "",
     "delete_cmd_prefix": "del ",
     "library": "var_list.py",
     "varRefreshCmd": "print(var_dic_list())"
    },
    "r": {
     "delete_cmd_postfix": ") ",
     "delete_cmd_prefix": "rm(",
     "library": "var_list.r",
     "varRefreshCmd": "cat(var_dic_list()) "
    }
   },
   "types_to_exclude": [
    "module",
    "function",
    "builtin_function_or_method",
    "instance",
    "_Feature"
   ],
   "window_display": false
  }
 },
 "nbformat": 4,
 "nbformat_minor": 1
}
